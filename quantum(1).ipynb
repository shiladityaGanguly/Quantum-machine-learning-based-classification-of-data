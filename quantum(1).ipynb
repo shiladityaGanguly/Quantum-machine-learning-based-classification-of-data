{
 "cells": [
  {
   "cell_type": "code",
   "execution_count": null,
   "metadata": {},
   "outputs": [],
   "source": [
    "!python --version"
   ]
  },
  {
   "cell_type": "code",
   "execution_count": null,
   "metadata": {},
   "outputs": [],
   "source": [
    "%pip install -q tensorflow==2.8.0"
   ]
  },
  {
   "cell_type": "code",
   "execution_count": null,
   "metadata": {},
   "outputs": [],
   "source": [
    "%pip install tensorflow-quantum==0.7.2"
   ]
  },
  {
   "cell_type": "code",
   "execution_count": null,
   "metadata": {},
   "outputs": [],
   "source": [
    "%pip install cirq"
   ]
  },
  {
   "cell_type": "code",
   "execution_count": null,
   "metadata": {},
   "outputs": [],
   "source": [
    "%pip install scikit-learn"
   ]
  },
  {
   "cell_type": "code",
   "execution_count": null,
   "metadata": {},
   "outputs": [],
   "source": [
    "import tensorflow as tf\n",
    "\n",
    "# Data Processing tools\n",
    "import numpy as np\n",
    "from sklearn.model_selection import train_test_split \n",
    "\n",
    "# QML tools\n",
    "import tensorflow_quantum as tfq\n",
    "import cirq\n",
    "import sympy\n",
    "\n",
    "# Visualization Tools\n",
    "from cirq.contrib.svg import SVGCircuit\n",
    "import matplotlib.pyplot as plt"
   ]
  },
  {
   "cell_type": "code",
   "execution_count": null,
   "metadata": {},
   "outputs": [],
   "source": [
    "print(\"We are using the TensorFlow-Quantum version {}\".format(tfq.__version__))\n",
    "print(\"We are using the Cirq version {}\".format(cirq.__version__))"
   ]
  },
  {
   "cell_type": "code",
   "execution_count": null,
   "metadata": {},
   "outputs": [],
   "source": [
    "#importing the Fashion MNIST dataset from keras\n",
    "from tensorflow.keras.datasets import fashion_mnist as dataset"
   ]
  },
  {
   "cell_type": "code",
   "execution_count": null,
   "metadata": {},
   "outputs": [],
   "source": [
    "(X_train, y_train), (X_test, y_test) = dataset.load_data()"
   ]
  },
  {
   "cell_type": "code",
   "execution_count": null,
   "metadata": {},
   "outputs": [],
   "source": [
    "\n",
    "print(\"The shape of the X_train is {}\".format( X_train.shape))\n",
    "print(\"The shape of the y_train is {}\".format(y_train.shape))\n",
    "print(\"The shape of the X_test is {}\".format(X_test.shape))\n",
    "print(\"The shape of the y_test is {}\".format(y_test.shape))"
   ]
  },
  {
   "cell_type": "code",
   "execution_count": null,
   "metadata": {},
   "outputs": [],
   "source": [
    "def filter_data(x, y):\n",
    "  \"\"\"\n",
    "  Helper Function to filter the dataset\n",
    "  \"\"\"\n",
    "  #filter the data using labels\n",
    "  keep = (y == 5) | (y == 9)\n",
    "  x, y = x[keep], y[keep]\n",
    "  print(keep)\n",
    "  print(x[keep]) \n",
    "  print(y[keep])\n",
    "  # convert labels to boolean\n",
    "  # y = True if y==5\n",
    "  # y = False if y==9\n",
    "  y = y == 5\n",
    "  return x,y"
   ]
  },
  {
   "cell_type": "code",
   "execution_count": null,
   "metadata": {},
   "outputs": [],
   "source": [
    "\n",
    "#Filter the train set\n",
    "X_train, y_train = filter_data(X_train, y_train)\n",
    "\n",
    "#Filter the test_set\n",
    "X_test, y_test = filter_data(X_test, y_test)"
   ]
  },
  {
   "cell_type": "code",
   "execution_count": null,
   "metadata": {},
   "outputs": [],
   "source": [
    "# Let's have a look at the shapes of train and test data\n",
    "print(\"The shape of the X_train is {}\".format( X_train.shape))\n",
    "print(\"The shape of the y_train is {}\".format(y_train.shape))\n",
    "print(\"The shape of the X_test is {}\".format(X_test.shape))\n",
    "print(\"The shape of the y_test is {}\".format(y_test.shape))"
   ]
  },
  {
   "cell_type": "code",
   "execution_count": null,
   "metadata": {},
   "outputs": [],
   "source": [
    "\n",
    "#Let's have a look at the first image from our X_train and the \n",
    "# corresponding label from y_train\n",
    "print(\"The First Image has the label {}\".format(y_train[0]))\n",
    "plt.imshow(X_train[0])\n",
    "plt.colorbar()\n",
    "plt.title('Visualization of the Dataset')\n",
    "plt.show()"
   ]
  },
  {
   "cell_type": "code",
   "execution_count": null,
   "metadata": {},
   "outputs": [],
   "source": [
    "#Normalizing the train and test image data\n",
    "X_train = X_train/255.0\n",
    "X_test = X_test/ 255.0"
   ]
  },
  {
   "cell_type": "code",
   "execution_count": null,
   "metadata": {},
   "outputs": [],
   "source": [
    "#Let's again have a look at the first image from our X_train and\n",
    "#see if we have successfully normalized the datasets\n",
    "plt.imshow(X_train[0])\n",
    "plt.colorbar()\n",
    "plt.title('Visualization of the Dataset')\n",
    "plt.show()"
   ]
  },
  {
   "cell_type": "code",
   "execution_count": null,
   "metadata": {},
   "outputs": [],
   "source": [
    "\n",
    "#Before proceeding, we need to reshape our images in the dataset\n",
    "X_train = X_train.reshape(X_train.shape[0], *(28,28,1))\n",
    "X_test = X_test.reshape(X_test.shape[0], *(28,28,1))"
   ]
  },
  {
   "cell_type": "code",
   "execution_count": null,
   "metadata": {},
   "outputs": [],
   "source": [
    "# Downscaling the images\n",
    "X_train = tf.image.resize(X_train, (2,2)).numpy()\n",
    "X_test = tf.image.resize(X_test, (2,2)).numpy()\n"
   ]
  },
  {
   "cell_type": "code",
   "execution_count": null,
   "metadata": {},
   "outputs": [],
   "source": [
    "\n",
    "#Let's again have a look at the first image from our resized X_train\n",
    "plt.imshow(X_train[0,:,:,0])\n",
    "plt.colorbar()\n",
    "plt.title('Visualization of the Resized Dataset')\n",
    "plt.show()"
   ]
  },
  {
   "cell_type": "code",
   "execution_count": null,
   "metadata": {},
   "outputs": [],
   "source": [
    "\n",
    "#Splitting the training fdataset into train and validation datasets\n",
    "X_train, X_valid, y_train, y_valid = train_test_split(X_train, y_train, test_size = 0.15, random_state=0)"
   ]
  },
  {
   "cell_type": "code",
   "execution_count": null,
   "metadata": {},
   "outputs": [],
   "source": [
    "print(\"The shape of the X_train is {}\".format(X_train.shape))\n",
    "print(\"The shape of the y_train is {}\".format(y_train.shape))\n",
    "print(\"The shape of the X_valid is {}\".format(X_valid.shape))\n",
    "print(\"The shape of the y_valid is {}\".format(y_valid.shape))"
   ]
  },
  {
   "cell_type": "code",
   "execution_count": null,
   "metadata": {},
   "outputs": [],
   "source": [
    "# FLattening the images\n",
    "X_train = X_train.reshape(X_train.shape[0], *(1,4,1))\n",
    "X_valid = X_valid.reshape(X_valid.shape[0], *(1,4,1))\n",
    "X_test = X_test.reshape(X_test.shape[0], *(1,4,1))"
   ]
  },
  {
   "cell_type": "code",
   "execution_count": null,
   "metadata": {},
   "outputs": [],
   "source": [
    "#Let's have a look on the first example\n",
    "print(X_train[0])"
   ]
  },
  {
   "cell_type": "code",
   "execution_count": null,
   "metadata": {},
   "outputs": [],
   "source": [
    "def binary_encode(X,threshold=0.5):\n",
    "  \"\"\"\n",
    "  Encodes the given datset to use binary encoding\n",
    "\n",
    "  Parameters:\n",
    "  X(array) : Image data to be processed for encoding\n",
    "  threshold(float): Threshold for binary encoding, 0.5 by default\n",
    "\n",
    "  Returns:\n",
    "  encoded_images(array): Binary encoded Image Data\n",
    "\n",
    "  \"\"\" \n",
    "  encoded_images = list()\n",
    "  for image in X:\n",
    "    # pixel value is 1 if it's greater than threshold or else zero\n",
    "    encoded_image = [1 if j>threshold else 0 for j in image[0]]\n",
    "    encoded_images.append(encoded_image)\n",
    "  return np.array(encoded_images)"
   ]
  },
  {
   "cell_type": "code",
   "execution_count": null,
   "metadata": {},
   "outputs": [],
   "source": [
    "X_train = binary_encode(X_train)"
   ]
  },
  {
   "cell_type": "code",
   "execution_count": null,
   "metadata": {},
   "outputs": [],
   "source": [
    "\n",
    "# Now, Let's have a look on the first example again\n",
    "print(X_train[0])"
   ]
  },
  {
   "cell_type": "code",
   "execution_count": null,
   "metadata": {},
   "outputs": [],
   "source": [
    "print(\"The shape of the X_train is {}\".format(X_train.shape))"
   ]
  },
  {
   "cell_type": "code",
   "execution_count": null,
   "metadata": {},
   "outputs": [],
   "source": [
    "def create_circuit_from_image(encoded_image):\n",
    "  \"\"\"\n",
    "  Returns a circuit for given encoded image\n",
    "\n",
    "  Parameters:\n",
    "  encoded_image (array): Encoded Image\n",
    "\n",
    "  Returns:\n",
    "  circuit (cirq.Circuit object): cirq circuit\n",
    "  \"\"\"\n",
    "  qubits = cirq.GridQubit.rect(2,2)\n",
    "  circuit = cirq.Circuit()\n",
    "  for i, pixel in enumerate(encoded_image):\n",
    "    if pixel:\n",
    "      circuit.append(cirq.X(qubits[i]))\n",
    "  return circuit"
   ]
  },
  {
   "cell_type": "code",
   "execution_count": null,
   "metadata": {},
   "outputs": [],
   "source": [
    "X_train = [create_circuit_from_image(encoded_image) for encoded_image in X_train]"
   ]
  },
  {
   "cell_type": "code",
   "execution_count": null,
   "metadata": {},
   "outputs": [],
   "source": [
    "# Let's have a look at the circuit for the first image\n",
    "print(X_train[0])"
   ]
  },
  {
   "cell_type": "code",
   "execution_count": null,
   "metadata": {},
   "outputs": [],
   "source": [
    "X_train_tfq = tfq.convert_to_tensor(X_train)"
   ]
  },
  {
   "cell_type": "code",
   "execution_count": null,
   "metadata": {},
   "outputs": [],
   "source": [
    "X_valid = binary_encode(X_valid)\n",
    "X_test = binary_encode(X_test)"
   ]
  },
  {
   "cell_type": "code",
   "execution_count": null,
   "metadata": {},
   "outputs": [],
   "source": [
    "X_valid = [create_circuit_from_image(encoded_image) for encoded_image in X_valid]\n",
    "X_test = [create_circuit_from_image(encoded_image) for encoded_image in X_test]"
   ]
  },
  {
   "cell_type": "code",
   "execution_count": null,
   "metadata": {},
   "outputs": [],
   "source": [
    "\n",
    "X_valid_tfq = tfq.convert_to_tensor(X_valid)\n",
    "X_test_tfq = tfq.convert_to_tensor(X_test)"
   ]
  },
  {
   "cell_type": "code",
   "execution_count": null,
   "metadata": {},
   "outputs": [],
   "source": [
    "class QNN():\n",
    "    def __init__(self, data_qubits, readout):\n",
    "      self.data_qubits = data_qubits\n",
    "      self.readout = readout\n",
    "\n",
    "    def add_singleQubit_gate(self,circuit, gate, qubit_index):\n",
    "      \"\"\"\n",
    "      Adds single qubit gate to the circuit\n",
    "      Parameters:\n",
    "      circuit(cirq.Circuit object): Cirq circuit\n",
    "      gate(cirq gate): gate to append to the circuit\n",
    "      qubits(list): index of qubits to apply the gate \n",
    "      Returns:\n",
    "      None\n",
    "      \"\"\"\n",
    "      for index in qubit_index:\n",
    "        circuit.append(gate(self.data_qubits[index]))\n",
    "\n",
    "    def add_twoQubit_gate(self,circuit, gate, qubit_index):\n",
    "      \"\"\"\n",
    "      Adds two qubit gate to the circuit\n",
    "      Parameters:\n",
    "      circuit(cirq.Circuit object): Cirq circuit\n",
    "      gate(cirq gate): gate to append to the circuit\n",
    "      qubits(list): index of qubits to apply the gate\n",
    "      Returns:\n",
    "      None\n",
    "      \"\"\"\n",
    "      if len(qubit_index)!=2:\n",
    "        raise Exception(\"The length of the list of indices passed for two qubit \\\n",
    "        gate operations must be equal to two\")\n",
    "      circuit.append(gate(self.data_qubits[qubit_index[0]], self.data_qubits[qubit_index[1]]))\n",
    "\n",
    "    def add_layer(self, circuit, gate, symbol_gate):\n",
    "      \"\"\"\n",
    "      Adds New Gates/Layers to the Circuit\n",
    "      Parameters:\n",
    "      circuit(cirq.Circuit object): Cirq circuit\n",
    "      gate(cirq gate): gate to append to the circuit\n",
    "      symbol_gate(string): symbol for the gate\n",
    "      Returns:\n",
    "      None\n",
    "      \"\"\"\n",
    "      for i, qubit in enumerate(self.data_qubits):\n",
    "        symbol = sympy.Symbol(symbol_gate+ '-' + str(i))\n",
    "        circuit.append(gate(qubit, self.readout)**symbol)"
   ]
  },
  {
   "cell_type": "code",
   "execution_count": null,
   "metadata": {},
   "outputs": [],
   "source": [
    "def create_qnn():\n",
    "    \"\"\"Create a QNN model circuit and readout operation to go along with it.\"\"\"\n",
    "    data_qubits = cirq.GridQubit.rect(2,2)  # a 4x4 grid.\n",
    "    readout = cirq.GridQubit(-1, -1)         # a single qubit at [-1,-1]\n",
    "    circuit = cirq.Circuit()\n",
    "\n",
    "    # Prepare the readout qubit.\n",
    "    circuit.append(cirq.X(readout))\n",
    "    circuit.append(cirq.H(readout))\n",
    "\n",
    "    qnn = QNN(\n",
    "        data_qubits = data_qubits,\n",
    "        readout=readout)\n",
    "    \n",
    "    \"\"\"\n",
    "    # Though we don't use single and double Qubit Gates in our Circuit, we provide \n",
    "    # the methods \"add_singleQubit_gate\" and \"add_twoQubit_gate\" for our Class QNN\n",
    "    # that can be used to add Single and Double Qubit Gates respectively.\n",
    "    # An exmaple is shown below:\n",
    "\n",
    "    #Add Hadamard Gates\n",
    "    qnn.add_singleQubit_gate(circuit, cirq.H, [0,1,2,3])\n",
    "\n",
    "    #Add CNOT gates\n",
    "    qnn.add_twoQubit_gate(circuit, cirq.CNOT, [0, 1])\n",
    "    qnn.add_twoQubit_gate(circuit, cirq.CNOT, [2, 3])\n",
    "    \"\"\"\n",
    "\n",
    "    # Add the ising coupling XX gate\n",
    "    qnn.add_layer(circuit, cirq.XX, \"xx\")\n",
    "    qnn.add_layer(circuit, cirq.ZZ, \"zz\")\n",
    "\n",
    "    # Finally, prepare the readout qubit.\n",
    "    circuit.append(cirq.H(readout))\n",
    "\n",
    "    return circuit, cirq.Z(readout)"
   ]
  },
  {
   "cell_type": "code",
   "execution_count": null,
   "metadata": {},
   "outputs": [],
   "source": [
    "qmodel, model_readout = create_qnn()"
   ]
  },
  {
   "cell_type": "code",
   "execution_count": null,
   "metadata": {},
   "outputs": [],
   "source": [
    "#Let's have a look at our Qauntum Circuit that will perform the classification\n",
    "SVGCircuit(qmodel)"
   ]
  },
  {
   "cell_type": "code",
   "execution_count": null,
   "metadata": {},
   "outputs": [],
   "source": [
    "model = tf.keras.Sequential([\n",
    "                             \n",
    "    # The input is the data-circuit, encoded as a tf.string\n",
    "    tf.keras.layers.Input(shape=(), dtype=tf.string),\n",
    "\n",
    "    \n",
    "    # The PQC stands for Paramaterized Quantum Circuit\n",
    "    # This returns the expectation value\n",
    "    tfq.layers.PQC(qmodel, model_readout),\n",
    "])"
   ]
  },
  {
   "cell_type": "code",
   "execution_count": null,
   "metadata": {},
   "outputs": [],
   "source": [
    "# To use Hinge Loss, we convert the labels to 1 and -1\n",
    "y_train_h = np.array([1 if i==1 else -1 for i in y_train ])\n",
    "y_valid_h = np.array([1 if i==1 else -1 for i in y_valid ])\n",
    "y_test_h = np.array([1 if i==1 else -1 for i in y_test ])"
   ]
  },
  {
   "cell_type": "code",
   "execution_count": null,
   "metadata": {},
   "outputs": [],
   "source": [
    "# Let's have a look at the first label from the training dataset\n",
    "print(y_train_h[0])"
   ]
  },
  {
   "cell_type": "code",
   "execution_count": null,
   "metadata": {},
   "outputs": [],
   "source": [
    "# Define the custom Hinge Accuracy\n",
    "def hinge_accuracy(y_true, y_pred):\n",
    "    y_true = tf.squeeze(y_true) > 0.0\n",
    "    y_pred = tf.squeeze(y_pred) > 0.0\n",
    "    result = tf.cast(y_true == y_pred, tf.float32)\n",
    "\n",
    "    return tf.reduce_mean(result)"
   ]
  },
  {
   "cell_type": "code",
   "execution_count": null,
   "metadata": {},
   "outputs": [],
   "source": [
    "model.compile(\n",
    "    loss=tf.keras.losses.Hinge(),\n",
    "    optimizer=tf.keras.optimizers.Adam(learning_rate=0.001),\n",
    "    metrics=[hinge_accuracy])"
   ]
  },
  {
   "cell_type": "code",
   "execution_count": null,
   "metadata": {},
   "outputs": [],
   "source": [
    "qnn_history = model.fit(\n",
    "      X_train_tfq, y_train_h,\n",
    "      batch_size=64,\n",
    "      epochs=10,\n",
    "      verbose=1,\n",
    "      validation_data=(X_valid_tfq, y_valid_h))"
   ]
  },
  {
   "cell_type": "code",
   "execution_count": null,
   "metadata": {},
   "outputs": [],
   "source": [
    "model.evaluate(X_test_tfq, y_test_h)"
   ]
  },
  {
   "cell_type": "code",
   "execution_count": null,
   "metadata": {},
   "outputs": [],
   "source": [
    "# Visualize Accuracy\n",
    "plt.plot(qnn_history.history['hinge_accuracy'])\n",
    "plt.plot(qnn_history.history['val_hinge_accuracy'])\n",
    "plt.title('Model Accuracy')\n",
    "plt.xlabel('Epoch')\n",
    "plt.ylabel('Accuracy')\n",
    "plt.legend(['train','test'],loc=\"best\")\n",
    "plt.show()"
   ]
  },
  {
   "cell_type": "code",
   "execution_count": null,
   "metadata": {},
   "outputs": [],
   "source": [
    "# Visualize Loss\n",
    "plt.plot(qnn_history.history['loss'])\n",
    "plt.plot(qnn_history.history['val_loss'])\n",
    "plt.title('Model Loss')\n",
    "plt.xlabel('Epoch')\n",
    "plt.ylabel('Loss')\n",
    "plt.legend(['train','test'],loc=\"best\")\n",
    "plt.show()"
   ]
  },
  {
   "cell_type": "code",
   "execution_count": null,
   "metadata": {},
   "outputs": [],
   "source": [
    "#Saving the weights\n",
    "model.save_weights('QModelWeights')"
   ]
  }
 ],
 "metadata": {
  "kernelspec": {
   "display_name": ".venv",
   "language": "python",
   "name": "python3"
  },
  "language_info": {
   "codemirror_mode": {
    "name": "ipython",
    "version": 3
   },
   "file_extension": ".py",
   "mimetype": "text/x-python",
   "name": "python",
   "nbconvert_exporter": "python",
   "pygments_lexer": "ipython3",
   "version": "3.8.10"
  }
 },
 "nbformat": 4,
 "nbformat_minor": 2
}
